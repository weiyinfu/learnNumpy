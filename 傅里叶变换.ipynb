{
 "cells": [
  {
   "cell_type": "markdown",
   "metadata": {},
   "source": [
    "# 离散傅里叶变换正向推导\n",
    "\n",
    "$$X_k=\\sum_{n=0}^{N-1}x_n e^{-i2\\pi kn/N}$$"
   ]
  },
  {
   "cell_type": "code",
   "execution_count": 1,
   "metadata": {},
   "outputs": [],
   "source": [
    "import numpy as np\n",
    "from numpy import fft"
   ]
  },
  {
   "cell_type": "code",
   "execution_count": 2,
   "metadata": {},
   "outputs": [],
   "source": [
    "a=np.array([1,2,3])"
   ]
  },
  {
   "cell_type": "code",
   "execution_count": 3,
   "metadata": {},
   "outputs": [
    {
     "data": {
      "text/plain": [
       "array([ 6. +0.j       , -1.5+0.8660254j, -1.5-0.8660254j])"
      ]
     },
     "execution_count": 3,
     "metadata": {},
     "output_type": "execute_result"
    }
   ],
   "source": [
    "fft.fft(a)"
   ]
  },
  {
   "cell_type": "code",
   "execution_count": 5,
   "metadata": {},
   "outputs": [
    {
     "data": {
      "text/plain": [
       "[(6+0j),\n",
       " (-1.5000000000000009+0.8660254037844375j),\n",
       " (-1.4999999999999984-0.8660254037844406j)]"
      ]
     },
     "execution_count": 5,
     "metadata": {},
     "output_type": "execute_result"
    }
   ],
   "source": [
    "b=[]\n",
    "for k in range(len(a)):\n",
    "    s=0\n",
    "    for n in range(len(a)):\n",
    "        s+=a[n]*np.exp(-2j*np.pi*k*n/len(a))\n",
    "    b.append(s)\n",
    "b"
   ]
  },
  {
   "cell_type": "markdown",
   "metadata": {},
   "source": [
    "# 离散傅里叶逆变换\n",
    "傅里叶逆变换\n",
    "$$x_k=\\sum_{n=0}^{N-1}X_n e^{i2\\pi kn/N}$$"
   ]
  },
  {
   "cell_type": "code",
   "execution_count": 6,
   "metadata": {},
   "outputs": [
    {
     "data": {
      "text/plain": [
       "array([1.-1.03620816e-15j, 2.-1.86982240e-16j, 3.+1.22319040e-15j])"
      ]
     },
     "execution_count": 6,
     "metadata": {},
     "output_type": "execute_result"
    }
   ],
   "source": [
    "fft.ifft(b)"
   ]
  },
  {
   "cell_type": "code",
   "execution_count": 16,
   "metadata": {},
   "outputs": [
    {
     "data": {
      "text/plain": [
       "[(1.0000000000000002-1.0362081563168126e-15j),\n",
       " (1.9999999999999996-1.4802973661668753e-16j),\n",
       " (3+4.440892098500626e-16j)]"
      ]
     },
     "execution_count": 16,
     "metadata": {},
     "output_type": "execute_result"
    }
   ],
   "source": [
    "c=[]\n",
    "for k in range(len(b)):\n",
    "    s=0\n",
    "    for n in range(len(b)):\n",
    "        s+=b[n]*np.exp(2j*np.pi*k*n/len(b))\n",
    "    c.append(s/len(b))\n",
    "c"
   ]
  },
  {
   "cell_type": "markdown",
   "metadata": {},
   "source": [
    "# 傅里叶变换实现整数乘法"
   ]
  },
  {
   "cell_type": "code",
   "execution_count": 19,
   "metadata": {},
   "outputs": [
    {
     "data": {
      "text/plain": [
       "array([2.-2.07241631e-15j, 4.-3.73964480e-16j, 6.+2.44638079e-15j])"
      ]
     },
     "execution_count": 19,
     "metadata": {},
     "output_type": "execute_result"
    }
   ],
   "source": [
    "# 在频域中执行2倍然后再变换到时域\n",
    "fft.ifft(2*np.array(b))"
   ]
  },
  {
   "cell_type": "code",
   "execution_count": 21,
   "metadata": {},
   "outputs": [],
   "source": [
    "a=np.array([1,2,3])\n",
    "b=np.array([4,5,6])\n",
    "aa=fft.fft(a)\n",
    "bb=fft.fft(b)"
   ]
  },
  {
   "cell_type": "code",
   "execution_count": 24,
   "metadata": {},
   "outputs": [
    {
     "data": {
      "text/plain": [
       "array([5.+0.j, 7.+0.j, 9.+0.j])"
      ]
     },
     "execution_count": 24,
     "metadata": {},
     "output_type": "execute_result"
    }
   ],
   "source": [
    "# 频域相加然后再转换到时域\n",
    "cc=aa+bb\n",
    "fft.ifft(cc)"
   ]
  },
  {
   "cell_type": "code",
   "execution_count": 26,
   "metadata": {},
   "outputs": [
    {
     "data": {
      "text/plain": [
       "array([31.+0.j, 31.+0.j, 28.+0.j])"
      ]
     },
     "execution_count": 26,
     "metadata": {},
     "output_type": "execute_result"
    }
   ],
   "source": [
    "# 频域相乘得到的结果已经是大整数乘法的结果了，只需要执行进位操作即可\n",
    "fft.ifft(aa*bb)"
   ]
  },
  {
   "cell_type": "code",
   "execution_count": 26,
   "metadata": {},
   "outputs": [
    {
     "name": "stdout",
     "output_type": "stream",
     "text": [
      "全部通过\n"
     ]
    }
   ],
   "source": [
    "import numpy as np\n",
    "from numpy import fft\n",
    "def biginteger_mul(a:str,b:str)->str:\n",
    "    a=np.array([int(i)for i in a])\n",
    "    b=np.array([int(i)for i in b])\n",
    "    # 首先对齐\n",
    "    sz=len(a)+len(b)+2\n",
    "    a=np.pad(a,(sz-len(a),0))[::-1]\n",
    "    b=np.pad(b,(sz-len(b),0))[::-1]\n",
    "    aa=fft.fft(a)\n",
    "    bb=fft.fft(b)\n",
    "    cc=aa*bb\n",
    "    c=fft.ifft(cc)\n",
    "    d=[]\n",
    "    left=0\n",
    "    for i in range(len(c)):\n",
    "        now=int(np.round(c[i].real+left))\n",
    "        d.append(now%10)\n",
    "        left=np.round(now//10)\n",
    "    if left:\n",
    "        d.append(left)\n",
    "    return ''.join(str(i)for i in d)[::-1].lstrip('0')\n",
    "\n",
    "def test(a:str,b:str):\n",
    "    mine=biginteger_mul(a,b)\n",
    "    ans=str(int(a)*int(b))\n",
    "    if mine!=ans:\n",
    "        print(f\"found badcase a={a} b={b}\",mine,ans)\n",
    "        return False\n",
    "    return True\n",
    "\n",
    "def big_test():\n",
    "    cas_list=np.random.randint(1,1000,(1234,2))\n",
    "    for a,b in cas_list:\n",
    "        if not test(str(a),str(b)):\n",
    "            break\n",
    "    print(\"全部通过\")\n",
    "big_test()"
   ]
  },
  {
   "cell_type": "markdown",
   "metadata": {},
   "source": [
    "# 从压缩角度看傅里叶变换\n",
    "给定一个实数数组`a[N]`，它有N个实数组成。它的等价物是傅里叶变换之后的复数数组`b[N]`，一个复数等于两个实数，所以经过傅里叶变换之后有2N个实数，这是怎么回事？  \n",
    "实际上，`b[N]`数组是有冗余的，`b[0]`是中心，`b[1..N-1]`是对称的，首尾两两组成共轭复数。  \n",
    "$$若b_i=A+Bj,则b_{N-i}=A-Bj$$  \n",
    "\n",
    "由此可知，当N为偶数的时候，`b[1..N-1]`是奇数个数，`b[0]`和`b[N//2]`虚部为0，实部对应两个实数。其余部分是对称的，对应N-2个实数。\n",
    "\n",
    "当N为奇数的时候，`b[1..N-1]`是偶数个数，对应N-1个实数，`b[0]`对应一个实数。  \n",
    "\n",
    "综上，不管怎么看，傅里叶变换之后依旧是N个有效实数。"
   ]
  },
  {
   "cell_type": "code",
   "execution_count": 36,
   "metadata": {},
   "outputs": [],
   "source": [
    "for i in range(100):\n",
    "    a=np.random.randint(1,100,np.random.randint(3,5))\n",
    "    b=fft.fft(a)\n",
    "    # 第一个数字虚部为0\n",
    "    assert np.imag(b[0])==0\n",
    "    b=b[1:]\n",
    "    pre=b[:len(b)//2]\n",
    "    back=b[len(b)-len(b)//2:]\n",
    "    if len(b)%2==1:\n",
    "        # 如果后半部分为偶数，则必定虚部也是0\n",
    "        assert np.imag(b[len(b)//2])==0\n",
    "    su=pre+back\n",
    "    assert np.all(np.real(pre)==np.real(back[::-1]))\n",
    "    assert np.all(np.imag(pre+back[::-1])<1e-5)"
   ]
  },
  {
   "cell_type": "markdown",
   "metadata": {},
   "source": [
    "# 傅里叶变换和频率的对应关系\n",
    "傅里叶变换实际上是频域和时域的映射。   \n",
    "傅里叶正变换把时域映射到频域，傅里叶逆变换把频域映射成时域。  \n",
    "时域的卷积等于频域的乘法，这个原理就是大整数运算成立的基本条件。  \n",
    "经过傅里叶正变换，可以对频域进行一些分析。  "
   ]
  },
  {
   "cell_type": "code",
   "execution_count": 61,
   "metadata": {},
   "outputs": [
    {
     "data": {
      "text/plain": [
       "[<matplotlib.lines.Line2D at 0x7f8a781ca050>]"
      ]
     },
     "execution_count": 61,
     "metadata": {},
     "output_type": "execute_result"
    },
    {
     "data": {
      "image/png": "[encoded data removed]",
      "text/plain": [
       "<Figure size 432x288 with 1 Axes>"
      ]
     },
     "metadata": {
      "needs_background": "light"
     },
     "output_type": "display_data"
    }
   ],
   "source": [
    "import matplotlib.pyplot as plt\n",
    "import pandas as pd\n",
    "x=np.linspace(0,50,1000)\n",
    "p=[]\n",
    "for i in [1/3,1/2,1,2,3,4,5,6,7,8,9,10]:\n",
    "    y=np.sin(i*x)\n",
    "    y=np.abs(fft.fft(y))\n",
    "    yy=y[1:len(y)//2]\n",
    "    f=np.argmax(yy)# f就表示周期，每隔f个点组成一个周期\n",
    "    p.append((i,f))\n",
    "p=np.array(p)\n",
    "plt.plot(p[:,0],p[:,1])"
   ]
  },
  {
   "cell_type": "code",
   "execution_count": 53,
   "metadata": {},
   "outputs": [
    {
     "data": {
      "text/html": [
       "<div>\n",
       "<style scoped>\n",
       "    .dataframe tbody tr th:only-of-type {\n",
       "        vertical-align: middle;\n",
       "    }\n",
       "\n",
       "    .dataframe tbody tr th {\n",
       "        vertical-align: top;\n",
       "    }\n",
       "\n",
       "    .dataframe thead th {\n",
       "        text-align: right;\n",
       "    }\n",
       "</style>\n",
       "<table border=\"1\" class=\"dataframe\">\n",
       "  <thead>\n",
       "    <tr style=\"text-align: right;\">\n",
       "      <th></th>\n",
       "      <th>0</th>\n",
       "      <th>1</th>\n",
       "    </tr>\n",
       "  </thead>\n",
       "  <tbody>\n",
       "    <tr>\n",
       "      <th>0</th>\n",
       "      <td>0.333333</td>\n",
       "      <td>4.0</td>\n",
       "    </tr>\n",
       "    <tr>\n",
       "      <th>1</th>\n",
       "      <td>0.500000</td>\n",
       "      <td>7.0</td>\n",
       "    </tr>\n",
       "    <tr>\n",
       "      <th>2</th>\n",
       "      <td>1.000000</td>\n",
       "      <td>15.0</td>\n",
       "    </tr>\n",
       "    <tr>\n",
       "      <th>3</th>\n",
       "      <td>2.000000</td>\n",
       "      <td>31.0</td>\n",
       "    </tr>\n",
       "    <tr>\n",
       "      <th>4</th>\n",
       "      <td>3.000000</td>\n",
       "      <td>47.0</td>\n",
       "    </tr>\n",
       "    <tr>\n",
       "      <th>5</th>\n",
       "      <td>4.000000</td>\n",
       "      <td>63.0</td>\n",
       "    </tr>\n",
       "    <tr>\n",
       "      <th>6</th>\n",
       "      <td>5.000000</td>\n",
       "      <td>79.0</td>\n",
       "    </tr>\n",
       "    <tr>\n",
       "      <th>7</th>\n",
       "      <td>6.000000</td>\n",
       "      <td>95.0</td>\n",
       "    </tr>\n",
       "    <tr>\n",
       "      <th>8</th>\n",
       "      <td>7.000000</td>\n",
       "      <td>111.0</td>\n",
       "    </tr>\n",
       "    <tr>\n",
       "      <th>9</th>\n",
       "      <td>8.000000</td>\n",
       "      <td>126.0</td>\n",
       "    </tr>\n",
       "    <tr>\n",
       "      <th>10</th>\n",
       "      <td>9.000000</td>\n",
       "      <td>142.0</td>\n",
       "    </tr>\n",
       "    <tr>\n",
       "      <th>11</th>\n",
       "      <td>10.000000</td>\n",
       "      <td>158.0</td>\n",
       "    </tr>\n",
       "  </tbody>\n",
       "</table>\n",
       "</div>"
      ],
      "text/plain": [
       "            0      1\n",
       "0    0.333333    4.0\n",
       "1    0.500000    7.0\n",
       "2    1.000000   15.0\n",
       "3    2.000000   31.0\n",
       "4    3.000000   47.0\n",
       "5    4.000000   63.0\n",
       "6    5.000000   79.0\n",
       "7    6.000000   95.0\n",
       "8    7.000000  111.0\n",
       "9    8.000000  126.0\n",
       "10   9.000000  142.0\n",
       "11  10.000000  158.0"
      ]
     },
     "execution_count": 53,
     "metadata": {},
     "output_type": "execute_result"
    }
   ],
   "source": [
    "pd.DataFrame(p)"
   ]
  },
  {
   "cell_type": "code",
   "execution_count": 60,
   "metadata": {},
   "outputs": [
    {
     "data": {
      "text/plain": [
       "(7.551911976911978, 7.957747154594767)"
      ]
     },
     "execution_count": 60,
     "metadata": {},
     "output_type": "execute_result"
    }
   ],
   "source": [
    "np.mean(p[1:,1]/p[1:,0]),x[-1]/(2*np.pi)"
   ]
  },
  {
   "cell_type": "markdown",
   "metadata": {},
   "source": [
    "# 频率的几何意义\n",
    "高频对应细节，低频对应梗概。  \n",
    "基于此，可以实现滤波，低频滤波可以让图像变得模糊、让声音变得模糊，添加低频信号可以让图像变得清晰、让声音变得清晰。  \n",
    "\n",
    "噪声的本质其实就是细节。  "
   ]
  },
  {
   "cell_type": "code",
   "execution_count": 65,
   "metadata": {},
   "outputs": [
    {
     "data": {
      "text/plain": [
       "[<matplotlib.lines.Line2D at 0x7f8ac0d09910>]"
      ]
     },
     "execution_count": 65,
     "metadata": {},
     "output_type": "execute_result"
    },
    {
     "data": {
      "image/png": "[encoded data removed]",
      "text/plain": [
       "<Figure size 432x288 with 1 Axes>"
      ]
     },
     "metadata": {
      "needs_background": "light"
     },
     "output_type": "display_data"
    }
   ],
   "source": [
    "x=np.linspace(0,20,1000)\n",
    "y=np.sin(x)+np.random.normal(0,0.1,len(x))\n",
    "plt.plot(x,y)"
   ]
  },
  {
   "cell_type": "code",
   "execution_count": 66,
   "metadata": {},
   "outputs": [
    {
     "data": {
      "text/plain": [
       "[<matplotlib.lines.Line2D at 0x7f8ab09a3490>]"
      ]
     },
     "execution_count": 66,
     "metadata": {},
     "output_type": "execute_result"
    },
    {
     "data": {
      "image/png": "[encoded data removed]",
      "text/plain": [
       "<Figure size 432x288 with 1 Axes>"
      ]
     },
     "metadata": {
      "needs_background": "light"
     },
     "output_type": "display_data"
    }
   ],
   "source": [
    "yy=fft.fft(y)\n",
    "plt.plot(np.abs(yy))"
   ]
  },
  {
   "cell_type": "code",
   "execution_count": 71,
   "metadata": {},
   "outputs": [
    {
     "data": {
      "text/plain": [
       "[<matplotlib.lines.Line2D at 0x7f8ad1944cd0>]"
      ]
     },
     "execution_count": 71,
     "metadata": {},
     "output_type": "execute_result"
    },
    {
     "data": {
      "image/png": "[encoded data removed]",
      "text/plain": [
       "<Figure size 432x288 with 1 Axes>"
      ]
     },
     "metadata": {
      "needs_background": "light"
     },
     "output_type": "display_data"
    }
   ],
   "source": [
    "yy[20:]=0\n",
    "yyy=fft.ifft(yy)\n",
    "plt.plot(x,np.real(yyy))"
   ]
  }
 ],
 "metadata": {
  "kernelspec": {
   "display_name": "Python 3",
   "language": "python",
   "name": "python3"
  },
  "language_info": {
   "codemirror_mode": {
    "name": "ipython",
    "version": 3
   },
   "file_extension": ".py",
   "mimetype": "text/x-python",
   "name": "python",
   "nbconvert_exporter": "python",
   "pygments_lexer": "ipython3",
   "version": "3.7.6"
  },
  "toc": {
   "base_numbering": 1,
   "nav_menu": {},
   "number_sections": true,
   "sideBar": true,
   "skip_h1_title": false,
   "title_cell": "Table of Contents",
   "title_sidebar": "Contents",
   "toc_cell": false,
   "toc_position": {
    "height": "calc(100% - 180px)",
    "left": "10px",
    "top": "150px",
    "width": "293.267px"
   },
   "toc_section_display": true,
   "toc_window_display": true
  }
 },
 "nbformat": 4,
 "nbformat_minor": 4
}
